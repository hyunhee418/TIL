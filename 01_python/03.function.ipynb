{
 "cells": [
  {
   "cell_type": "markdown",
   "metadata": {},
   "source": [
    "# 함수(function)"
   ]
  },
  {
   "cell_type": "markdown",
   "metadata": {},
   "source": [
    "<center>\n",
    "    <img src=\"./images/03/func.png\", alt=\"func.png\">\n",
    "</center>"
   ]
  },
  {
   "cell_type": "markdown",
   "metadata": {},
   "source": [
    "## 들어가기전에\n",
    "\n",
    "> 직사각형의 둘레와 면적을 구하는 코드를 작성해주세요.\n",
    "\n",
    "```python\n",
    "height = 30\n",
    "width = 20\n",
    "```\n",
    "\n",
    "---\n",
    "```\n",
    "예시 출력)\n",
    "직사각형 둘레: 100, 면적: 600입니다.\n",
    "```"
   ]
  },
  {
   "cell_type": "code",
   "execution_count": 2,
   "metadata": {},
   "outputs": [
    {
     "name": "stdout",
     "output_type": "stream",
     "text": [
      "직사각형 둘레: 100, 면적: 600입니다.\n"
     ]
    }
   ],
   "source": [
    "height = 30\n",
    "width = 20\n",
    "# 아래에 코드를 작성하세요.\n",
    "area = height * width\n",
    "perimeter = (height + width) * 2\n",
    "print(f'직사각형 둘레: {perimeter}, 면적: {area}입니다.')"
   ]
  },
  {
   "cell_type": "markdown",
   "metadata": {},
   "source": [
    "* 앞서 작성한 코드에서 매번 사각형의 둘레와 면적을 구하기 위해서는 변수에 값을 바꾸거나 코드를 복사 붙여넣기 해야합니다.\n",
    "* 코드가 많아질수록 문제가 발생할 확률이 높아지며, 유지 보수하기도 힘들어진다."
   ]
  },
  {
   "cell_type": "markdown",
   "metadata": {},
   "source": [
    "<center>\n",
    "    <img src=\"./images/03/emc2.png\", alt=\"programming principle\">\n",
    "</center>"
   ]
  },
  {
   "cell_type": "markdown",
   "metadata": {},
   "source": [
    "<center>\n",
    "    <img src=\"./images/03/principle.png\", alt=\"programming principle\">\n",
    "</center>"
   ]
  },
  {
   "cell_type": "markdown",
   "metadata": {},
   "source": [
    "## 함수의 선언과 호출\n",
    "\n",
    "```python\n",
    "def func(parameter1, parameter2):\n",
    "    code line1\n",
    "    code line2\n",
    "    return value\n",
    "```\n",
    "\n",
    "* 함수 선언은 `def`로 시작하여 `:`으로 끝나고, 다음은 `4spaces 들여쓰기`로 코드 블록을 만듭니다.\n",
    "\n",
    "* 함수는 `매개변수(parameter)`를 넘겨줄 수도 있습니다.\n",
    "\n",
    "* 함수는 동작후에 `return`을 통해 결과값을 전달 할 수도 있습니다. (`return` 값이 없으면, None을 반환합니다.)\n",
    "\n",
    "* 함수는 호출을 `func(val1, val2)`와 같이 합니다.\n",
    "\n"
   ]
  },
  {
   "cell_type": "code",
   "execution_count": 3,
   "metadata": {},
   "outputs": [
    {
     "name": "stdout",
     "output_type": "stream",
     "text": [
      "직사각형 둘레: 220, 면적: 1000입니다.\n",
      "직사각형 둘레: 40, 면적: 100입니다.\n",
      "1\n",
      "2\n",
      "3\n",
      "3\n"
     ]
    },
    {
     "ename": "NameError",
     "evalue": "name 'area' is not defined",
     "output_type": "error",
     "traceback": [
      "\u001b[1;31m---------------------------------------------------------------------------\u001b[0m",
      "\u001b[1;31mNameError\u001b[0m                                 Traceback (most recent call last)",
      "\u001b[1;32m<ipython-input-3-a30ba9f509f7>\u001b[0m in \u001b[0;36m<module>\u001b[1;34m\u001b[0m\n\u001b[0;32m     20\u001b[0m \u001b[0mprint\u001b[0m\u001b[1;33m(\u001b[0m\u001b[0mn\u001b[0m\u001b[1;33m)\u001b[0m\u001b[1;33m\u001b[0m\u001b[1;33m\u001b[0m\u001b[0m\n\u001b[0;32m     21\u001b[0m \u001b[1;33m\u001b[0m\u001b[0m\n\u001b[1;32m---> 22\u001b[1;33m \u001b[0mprint\u001b[0m\u001b[1;33m(\u001b[0m\u001b[0marea\u001b[0m\u001b[1;33m)\u001b[0m\u001b[1;33m\u001b[0m\u001b[1;33m\u001b[0m\u001b[0m\n\u001b[0m\u001b[0;32m     23\u001b[0m \u001b[1;33m\u001b[0m\u001b[0m\n",
      "\u001b[1;31mNameError\u001b[0m: name 'area' is not defined"
     ]
    }
   ],
   "source": [
    "# 위의 사각형 코드를 함수로 아래에 작성해보세요\n",
    "height = 30\n",
    "width = 20\n",
    "# 아래에 코드를 작성하세요.\n",
    "def print_rectangle(width, height):\n",
    "    \n",
    "    area = height * width\n",
    "    perimeter = (height + width) * 2\n",
    "    \n",
    "    print(f'직사각형 둘레: {perimeter}, 면적: {area}입니다.')\n",
    "\n",
    "# print_rectangle('a', 'b')  # => 면적, 둘레\n",
    "\n",
    "print_rectangle(100, 10)  # => 면적, 둘레\n",
    "print_rectangle(10, 10)  # => 면적, 둘레\n",
    "\n",
    "for n in [1, 2, 3]:\n",
    "    print(n)\n",
    "    \n",
    "print(n)\n",
    "\n",
    "print(area)\n",
    "\n"
   ]
  },
  {
   "cell_type": "markdown",
   "metadata": {},
   "source": [
    "<center>\n",
    "    <img src=\"./images/03/func_des.png\", alt=\"function descrpition\">\n",
    "</center>"
   ]
  },
  {
   "cell_type": "markdown",
   "metadata": {},
   "source": [
    "<center>\n",
    "    <img src=\"./images/03/function_ex.png\", alt=\"function_example\">\n",
    "</center>"
   ]
  },
  {
   "cell_type": "code",
   "execution_count": 6,
   "metadata": {},
   "outputs": [
    {
     "name": "stdout",
     "output_type": "stream",
     "text": [
      "hi\n"
     ]
    }
   ],
   "source": [
    "# 우리가 활용하는 print문도 파이썬에 지정된 함수입니다. \n",
    "# 아래에서 'hi'는 parameter이고 출력을 하게 됩니다.\n",
    "print('hi')"
   ]
  },
  {
   "cell_type": "markdown",
   "metadata": {},
   "source": [
    "<center>\n",
    "    <img src=\"./images/03/built_in.png\", alt=\"built_in\">\n",
    "</center>\n",
    "\n",
    "[출처: python 공식문서](https://docs.python.org/3/library/functions.html)"
   ]
  },
  {
   "cell_type": "code",
   "execution_count": 7,
   "metadata": {},
   "outputs": [
    {
     "data": {
      "text/plain": [
       "['ArithmeticError',\n",
       " 'AssertionError',\n",
       " 'AttributeError',\n",
       " 'BaseException',\n",
       " 'BlockingIOError',\n",
       " 'BrokenPipeError',\n",
       " 'BufferError',\n",
       " 'BytesWarning',\n",
       " 'ChildProcessError',\n",
       " 'ConnectionAbortedError',\n",
       " 'ConnectionError',\n",
       " 'ConnectionRefusedError',\n",
       " 'ConnectionResetError',\n",
       " 'DeprecationWarning',\n",
       " 'EOFError',\n",
       " 'Ellipsis',\n",
       " 'EnvironmentError',\n",
       " 'Exception',\n",
       " 'False',\n",
       " 'FileExistsError',\n",
       " 'FileNotFoundError',\n",
       " 'FloatingPointError',\n",
       " 'FutureWarning',\n",
       " 'GeneratorExit',\n",
       " 'IOError',\n",
       " 'ImportError',\n",
       " 'ImportWarning',\n",
       " 'IndentationError',\n",
       " 'IndexError',\n",
       " 'InterruptedError',\n",
       " 'IsADirectoryError',\n",
       " 'KeyError',\n",
       " 'KeyboardInterrupt',\n",
       " 'LookupError',\n",
       " 'MemoryError',\n",
       " 'ModuleNotFoundError',\n",
       " 'NameError',\n",
       " 'None',\n",
       " 'NotADirectoryError',\n",
       " 'NotImplemented',\n",
       " 'NotImplementedError',\n",
       " 'OSError',\n",
       " 'OverflowError',\n",
       " 'PendingDeprecationWarning',\n",
       " 'PermissionError',\n",
       " 'ProcessLookupError',\n",
       " 'RecursionError',\n",
       " 'ReferenceError',\n",
       " 'ResourceWarning',\n",
       " 'RuntimeError',\n",
       " 'RuntimeWarning',\n",
       " 'StopAsyncIteration',\n",
       " 'StopIteration',\n",
       " 'SyntaxError',\n",
       " 'SyntaxWarning',\n",
       " 'SystemError',\n",
       " 'SystemExit',\n",
       " 'TabError',\n",
       " 'TimeoutError',\n",
       " 'True',\n",
       " 'TypeError',\n",
       " 'UnboundLocalError',\n",
       " 'UnicodeDecodeError',\n",
       " 'UnicodeEncodeError',\n",
       " 'UnicodeError',\n",
       " 'UnicodeTranslateError',\n",
       " 'UnicodeWarning',\n",
       " 'UserWarning',\n",
       " 'ValueError',\n",
       " 'Warning',\n",
       " 'WindowsError',\n",
       " 'ZeroDivisionError',\n",
       " '__IPYTHON__',\n",
       " '__build_class__',\n",
       " '__debug__',\n",
       " '__doc__',\n",
       " '__import__',\n",
       " '__loader__',\n",
       " '__name__',\n",
       " '__package__',\n",
       " '__spec__',\n",
       " 'abs',\n",
       " 'all',\n",
       " 'any',\n",
       " 'ascii',\n",
       " 'bin',\n",
       " 'bool',\n",
       " 'breakpoint',\n",
       " 'bytearray',\n",
       " 'bytes',\n",
       " 'callable',\n",
       " 'chr',\n",
       " 'classmethod',\n",
       " 'compile',\n",
       " 'complex',\n",
       " 'copyright',\n",
       " 'credits',\n",
       " 'delattr',\n",
       " 'dict',\n",
       " 'dir',\n",
       " 'display',\n",
       " 'divmod',\n",
       " 'enumerate',\n",
       " 'eval',\n",
       " 'exec',\n",
       " 'filter',\n",
       " 'float',\n",
       " 'format',\n",
       " 'frozenset',\n",
       " 'get_ipython',\n",
       " 'getattr',\n",
       " 'globals',\n",
       " 'hasattr',\n",
       " 'hash',\n",
       " 'help',\n",
       " 'hex',\n",
       " 'id',\n",
       " 'input',\n",
       " 'int',\n",
       " 'isinstance',\n",
       " 'issubclass',\n",
       " 'iter',\n",
       " 'len',\n",
       " 'license',\n",
       " 'list',\n",
       " 'locals',\n",
       " 'map',\n",
       " 'max',\n",
       " 'memoryview',\n",
       " 'min',\n",
       " 'next',\n",
       " 'object',\n",
       " 'oct',\n",
       " 'open',\n",
       " 'ord',\n",
       " 'pow',\n",
       " 'print',\n",
       " 'property',\n",
       " 'range',\n",
       " 'repr',\n",
       " 'reversed',\n",
       " 'round',\n",
       " 'set',\n",
       " 'setattr',\n",
       " 'slice',\n",
       " 'sorted',\n",
       " 'staticmethod',\n",
       " 'str',\n",
       " 'sum',\n",
       " 'super',\n",
       " 'tuple',\n",
       " 'type',\n",
       " 'vars',\n",
       " 'zip']"
      ]
     },
     "execution_count": 7,
     "metadata": {},
     "output_type": "execute_result"
    }
   ],
   "source": [
    "# 내장함수 목록을 직접 볼 수도 있습니다.\n",
    "dir(__builtins__)"
   ]
  },
  {
   "cell_type": "markdown",
   "metadata": {},
   "source": [
    "## 함수를 만들어봅시다.\n",
    "\n",
    "> 아래의 코드와 동일한 `my_max`함수를 만들어주세요.\n",
    ">\n",
    "> 정수를 두개 받아서, 큰 값을 출력합니다. \n",
    "\n",
    "```python\n",
    "max(1, 5)\n",
    "```\n",
    "---\n",
    "```\n",
    "예상 출력)\n",
    "5가 더 큽니다\n",
    "```\n"
   ]
  },
  {
   "cell_type": "code",
   "execution_count": 8,
   "metadata": {},
   "outputs": [
    {
     "data": {
      "text/plain": [
       "5"
      ]
     },
     "execution_count": 8,
     "metadata": {},
     "output_type": "execute_result"
    }
   ],
   "source": [
    "max(1, 5)"
   ]
  },
  {
   "cell_type": "code",
   "execution_count": 14,
   "metadata": {},
   "outputs": [
    {
     "name": "stdout",
     "output_type": "stream",
     "text": [
      "5\n",
      "5\n",
      "5\n"
     ]
    }
   ],
   "source": [
    "def my_max(a, b):\n",
    "    # 여기에 my_max 함수를 만들어주세요.\n",
    "    if a > b:\n",
    "        print(a)\n",
    "    else:\n",
    "        print(b)\n",
    "        \n",
    "    print(a) if a > b else print(b)\n",
    "    print(max(a, b))\n",
    "my_max(1, 5)"
   ]
  },
  {
   "cell_type": "code",
   "execution_count": 24,
   "metadata": {},
   "outputs": [
    {
     "name": "stdout",
     "output_type": "stream",
     "text": [
      "20\n",
      "None\n"
     ]
    }
   ],
   "source": [
    "def my_max2(a, b):\n",
    "    # 여기에 my_max 함수를 만들어주세요.\n",
    "    print(a) if a > b else print(b)\n",
    "\n",
    "print(my_max2(1, 20))"
   ]
  },
  {
   "cell_type": "code",
   "execution_count": 27,
   "metadata": {},
   "outputs": [
    {
     "data": {
      "text/plain": [
       "int"
      ]
     },
     "execution_count": 27,
     "metadata": {},
     "output_type": "execute_result"
    }
   ],
   "source": [
    "def my_max3(a, b):\n",
    "    # 여기에 my_max 함수를 만들어주세요.\n",
    "    result = a if a > b else b\n",
    "    return result\n",
    "\n",
    "n = my_max3(1, 2)\n",
    "m = my_max3(2, 4)\n",
    "\n",
    "type(my_max3(n, m))"
   ]
  },
  {
   "cell_type": "code",
   "execution_count": 28,
   "metadata": {},
   "outputs": [],
   "source": [
    "def get_2_max(a, b, c, d, e):\n",
    "    # 비교 후\n",
    "    return (a, b)  # 하나만 나갈 수 있지만, 이는 묶인 상자 하나."
   ]
  },
  {
   "cell_type": "markdown",
   "metadata": {},
   "source": [
    "# 함수의 return\n",
    "\n",
    "앞서 설명한 것과 마찬가지로 함수는 반환되는 값이 있으며, 이는 어떠한 종류의 객체여도 상관없습니다. \n",
    " \n",
    "단, 오직 한 개의 객체만 반환됩니다.\n",
    "\n",
    "함수가 return 되거나 종료되면, 함수를 호출한 곳으로 돌아갑니다."
   ]
  },
  {
   "cell_type": "markdown",
   "metadata": {},
   "source": [
    "## 함수를 정의하고 값을 반환해봅시다.\n",
    "\n",
    "> 함수는 모든 객체를 리턴할 수 있습니다. \n",
    "> \n",
    "> 리스트 두개를 받아 각각 더한 결과를 비교하여 값이 큰 리스트를 반환합니다.\n",
    "\n",
    "```python\n",
    "my_list_max([10, 3], [5, 9])\n",
    "```\n",
    "---\n",
    "```\n",
    "예상 출력)\n",
    "[5, 9]\n",
    "```\n"
   ]
  },
  {
   "cell_type": "code",
   "execution_count": 29,
   "metadata": {},
   "outputs": [
    {
     "data": {
      "text/plain": [
       "[15, 9]"
      ]
     },
     "execution_count": 29,
     "metadata": {},
     "output_type": "execute_result"
    }
   ],
   "source": [
    "# 여기에 my_list_max 함수를 만들어주세요.\n",
    "def sum_of_list(l):\n",
    "    result = 0\n",
    "    for i in l:\n",
    "        result += i\n",
    "    return result\n",
    "\n",
    "def my_list_max(list_1, list_2):\n",
    "\n",
    "    if sum_of_list(list_1) > sum_of_list(list_2):\n",
    "        return list_1\n",
    "    else:\n",
    "        return list_2\n",
    "    \n",
    "my_list_max([15, 3], [15, 9])"
   ]
  },
  {
   "cell_type": "code",
   "execution_count": 13,
   "metadata": {},
   "outputs": [
    {
     "ename": "IndentationError",
     "evalue": "unexpected indent (<ipython-input-13-1db465b84260>, line 3)",
     "output_type": "error",
     "traceback": [
      "\u001b[1;36m  File \u001b[1;32m\"<ipython-input-13-1db465b84260>\"\u001b[1;36m, line \u001b[1;32m3\u001b[0m\n\u001b[1;33m    if sum(list_1) > sum(list_2):\u001b[0m\n\u001b[1;37m    ^\u001b[0m\n\u001b[1;31mIndentationError\u001b[0m\u001b[1;31m:\u001b[0m unexpected indent\n"
     ]
    }
   ],
   "source": [
    "import math\n",
    "\n",
    "    if sum(list_1) > sum(list_2):\n",
    "        return list_1\n",
    "    else:\n",
    "        return list_2\n",
    "    \n",
    "    \n",
    "my_list_max([15, 3], [15, 9])"
   ]
  },
  {
   "cell_type": "markdown",
   "metadata": {},
   "source": [
    "# 함수의 인수\n",
    "\n",
    "함수는 `인자(parameter)`를 넘겨줄 수 있습니다."
   ]
  },
  {
   "cell_type": "markdown",
   "metadata": {},
   "source": [
    "## 위치 인수\n",
    "\n",
    "함수는 기본적으로 인수를 위치로 판단합니다."
   ]
  },
  {
   "cell_type": "code",
   "execution_count": 34,
   "metadata": {},
   "outputs": [
    {
     "name": "stdout",
     "output_type": "stream",
     "text": [
      "4.47213595499958\n",
      "8.602325267042627\n"
     ]
    }
   ],
   "source": [
    "# 알고 있는 수학 공식의 함수를 하나만 만들어보세요.\n",
    "def pita(a, b):\n",
    "    return ( a ** 2 + b ** 2 )** (1 / 2)\n",
    "    \n",
    "\n",
    "print(pita(2, 4))\n",
    "print(pita(7, 5))"
   ]
  },
  {
   "cell_type": "code",
   "execution_count": 36,
   "metadata": {},
   "outputs": [
    {
     "data": {
      "text/plain": [
       "[3, 4]"
      ]
     },
     "execution_count": 36,
     "metadata": {},
     "output_type": "execute_result"
    }
   ],
   "source": [
    "import random\n",
    "\n",
    "l = [1, 2, 3, 4, 5]\n",
    "\n",
    "# 어디서, 몇 개를 뽑는다.\n",
    "random.sample(l, 2)"
   ]
  },
  {
   "cell_type": "markdown",
   "metadata": {},
   "source": [
    "<center>\n",
    "    <img src=\"./images/03/func_ex_01.png\", alt=\"function example 02\">\n",
    "</center>"
   ]
  },
  {
   "cell_type": "code",
   "execution_count": 4,
   "metadata": {},
   "outputs": [
    {
     "ename": "SyntaxError",
     "evalue": "invalid syntax (<ipython-input-4-9c0b601a6a6d>, line 1)",
     "output_type": "error",
     "traceback": [
      "\u001b[1;36m  File \u001b[1;32m\"<ipython-input-4-9c0b601a6a6d>\"\u001b[1;36m, line \u001b[1;32m1\u001b[0m\n\u001b[1;33m    def aa(a, b, c, d=1, e=2, *args, **kwargs)\u001b[0m\n\u001b[1;37m                                              ^\u001b[0m\n\u001b[1;31mSyntaxError\u001b[0m\u001b[1;31m:\u001b[0m invalid syntax\n"
     ]
    }
   ],
   "source": [
    "def aa(a, b, c, d=1, e=2, *args, **kwargs)"
   ]
  },
  {
   "cell_type": "markdown",
   "metadata": {},
   "source": [
    "## 기본 값(Default Argument Values)\n",
    "\n",
    "함수가 호출될 때, 인자를 지정하지 않아도 기본 값을 설정할 수 있습니다. \n",
    "\n",
    "**활용법**\n",
    "```python\n",
    "def func(p1=v1):\n",
    "    return p1\n",
    "```"
   ]
  },
  {
   "cell_type": "code",
   "execution_count": 53,
   "metadata": {},
   "outputs": [
    {
     "data": {
      "text/plain": [
       "'익명, 안녕'"
      ]
     },
     "execution_count": 53,
     "metadata": {},
     "output_type": "execute_result"
    }
   ],
   "source": [
    "# 이름을 받아서 다음과 같이 인사하는 함수를 만들어보세요. \n",
    "# \"길동, 안녕?\"\n",
    "# 이름이 없으면 \"익명, 안녕?\" 으로 출력해주세요.\n",
    "def greet(input_name='익명'):  # 아무것도 없을 때는 이걸로 할께\n",
    "    return f'{input_name}, 안녕'\n",
    "\n",
    "greet('Helena')\n",
    "greet()"
   ]
  },
  {
   "cell_type": "markdown",
   "metadata": {},
   "source": [
    "\n",
    "* 기본 인자 값이 설정되어 있더라도 기존의 함수와 동일하게 호출 가능합니다.\n",
    "<center>\n",
    "    <img src=\"./images/03/func_ex_02.png\", alt=\"function example 02\">\n",
    "</center>"
   ]
  },
  {
   "cell_type": "markdown",
   "metadata": {},
   "source": [
    "* 호출시 인자가 없으면 기본 인자 값이 활용됩니다.\n",
    "<center>\n",
    "    <img src=\"./images/03/func_ex_03.png\", alt=\"function example 03\">\n",
    "</center>"
   ]
  },
  {
   "cell_type": "markdown",
   "metadata": {},
   "source": [
    "* 단, 기본 매개변수 이후에 기본 값이 없는 매개변수를 사용할 수는 없습니다."
   ]
  },
  {
   "cell_type": "code",
   "execution_count": 71,
   "metadata": {},
   "outputs": [
    {
     "ename": "SyntaxError",
     "evalue": "non-default argument follows default argument (<ipython-input-71-63a3012465be>, line 2)",
     "output_type": "error",
     "traceback": [
      "\u001b[1;36m  File \u001b[1;32m\"<ipython-input-71-63a3012465be>\"\u001b[1;36m, line \u001b[1;32m2\u001b[0m\n\u001b[1;33m    def greeting(name='john', age):  # 기본값은 무조건 뒤로 와야 됨.\u001b[0m\n\u001b[1;37m                ^\u001b[0m\n\u001b[1;31mSyntaxError\u001b[0m\u001b[1;31m:\u001b[0m non-default argument follows default argument\n"
     ]
    }
   ],
   "source": [
    "# 오류를 확인해봅시다.\n",
    "def greeting(name='john', age):  # 기본값은 무조건 뒤로 와야 됨.\n",
    "    print(f'{name} 은 {age} 살이군요!')\n",
    "    \n",
    "greeting(20, 'Helena')"
   ]
  },
  {
   "cell_type": "code",
   "execution_count": 63,
   "metadata": {},
   "outputs": [
    {
     "name": "stdout",
     "output_type": "stream",
     "text": [
      "Helena 은 20 살이군요!\n"
     ]
    }
   ],
   "source": [
    "# 수정해 봅시다.\n",
    "def greeting(age, name='john'):  # 기본값은 무조건 뒤로 와야 됨.\n",
    "    print(f'{name} 은 {age} 살이군요!')\n",
    "    \n",
    "greeting(20, 'Helena')"
   ]
  },
  {
   "cell_type": "markdown",
   "metadata": {},
   "source": [
    "## 키워드 인자(Keyword Arguments)\n",
    "\n",
    "키워드 인자는 직접적으로 변수의 이름으로 특정 인자를 전달할 수 있습니다."
   ]
  },
  {
   "cell_type": "code",
   "execution_count": 77,
   "metadata": {},
   "outputs": [
    {
     "name": "stdout",
     "output_type": "stream",
     "text": [
      "Helena은 20살입니다.\n"
     ]
    }
   ],
   "source": [
    "# 키워드 인자 예시\n",
    "def greeting(age=10, name='john'):\n",
    "    print(f'{name}은 {age}살입니다.')\n",
    "    \n",
    "greeting(name='Helena', age=20)"
   ]
  },
  {
   "cell_type": "markdown",
   "metadata": {},
   "source": [
    "* 단 아래와 같이 활용할 수는 없습니다. 키워드 인자를 활용한 뒤에 위치 인자를 활용할 수는 없습니다."
   ]
  },
  {
   "cell_type": "code",
   "execution_count": 78,
   "metadata": {},
   "outputs": [
    {
     "ename": "SyntaxError",
     "evalue": "positional argument follows keyword argument (<ipython-input-78-74f47670010a>, line 2)",
     "output_type": "error",
     "traceback": [
      "\u001b[1;36m  File \u001b[1;32m\"<ipython-input-78-74f47670010a>\"\u001b[1;36m, line \u001b[1;32m2\u001b[0m\n\u001b[1;33m    greeting(age=10, 'neo')  # 뒤에도 다 형식지켜줘. 하나만 지킬꺼면 마지막꺼만 지켜\u001b[0m\n\u001b[1;37m                    ^\u001b[0m\n\u001b[1;31mSyntaxError\u001b[0m\u001b[1;31m:\u001b[0m positional argument follows keyword argument\n"
     ]
    }
   ],
   "source": [
    "# 위치 인자 => 키워드 인자 순서여야 합니다.\n",
    "greeting(age=10, 'neo')  # 뒤에도 다 형식지켜줘. 하나만 지킬꺼면 마지막꺼만 지켜"
   ]
  },
  {
   "cell_type": "markdown",
   "metadata": {},
   "source": [
    "우리가 주로 활용하는 `print()` 함수는 [파이썬 표준 라이브러리의 내장함수](https://docs.python.org/ko/3.6/library/functions.html) 중 하나이며, 다음과 같이 구성되어 있다.\n",
    "\n",
    "<br>\n",
    "<br>\n",
    "<center>\n",
    "    <img src=\"./images/03/print.png\", alt=\"print\">\n",
    "</center>"
   ]
  },
  {
   "cell_type": "code",
   "execution_count": 80,
   "metadata": {},
   "outputs": [
    {
     "ename": "SyntaxError",
     "evalue": "positional argument follows keyword argument (<ipython-input-80-5173ff142a9c>, line 2)",
     "output_type": "error",
     "traceback": [
      "\u001b[1;36m  File \u001b[1;32m\"<ipython-input-80-5173ff142a9c>\"\u001b[1;36m, line \u001b[1;32m2\u001b[0m\n\u001b[1;33m    print(sep='//', 'a', 'b', end='--', 'c')\u001b[0m\n\u001b[1;37m                   ^\u001b[0m\n\u001b[1;31mSyntaxError\u001b[0m\u001b[1;31m:\u001b[0m positional argument follows keyword argument\n"
     ]
    }
   ],
   "source": [
    "print('a', 'b', 'c', sep='//', end='--')\n",
    "print(sep='//', 'a', 'b', end='--', 'c')  \n",
    "# \"=\"없이 들어오는 애들이 먼저, \"=\"이 들어가는 애들이 뒤따라 온다."
   ]
  },
  {
   "cell_type": "markdown",
   "metadata": {},
   "source": [
    "## 가변 인자 리스트\n",
    "\n",
    "앞서 설명한 `print()`처럼 정해지지 않은 임의의 개수의 인자를 받기 위해서는 가변인자를 활용합니다. \n",
    "\n",
    "가변인자는 `tuple` 형태로 처리가 되며, `*`로 표현합니다. \n",
    "\n",
    "**활용법**\n",
    "\n",
    "```python\n",
    "def func(*args):\n",
    "```"
   ]
  },
  {
   "cell_type": "code",
   "execution_count": 87,
   "metadata": {},
   "outputs": [
    {
     "name": "stdout",
     "output_type": "stream",
     "text": [
      "(1, 12, 2) <class 'tuple'>\n"
     ]
    }
   ],
   "source": [
    "# 가변 인자 예시 (print문은 *obejcts를 통해 임의의 숫자의 인자를 모두 처리합니다.)\n",
    "def many_args(*args):  #'*' 핵심 'args'는 박스이름 얘는 특별해, 몇 개든 다 담아\n",
    "    print(args, type(args))\n",
    "# 가변인자는 갯수에 제한되지 않는다. \n",
    "# 반드시 args여야 하는 건 아니지만 통상적으로 인자들이라는 뜻\n",
    "many_args(1, 12, 2)"
   ]
  },
  {
   "cell_type": "code",
   "execution_count": null,
   "metadata": {},
   "outputs": [],
   "source": [
    "# args는 tuple!"
   ]
  },
  {
   "cell_type": "markdown",
   "metadata": {},
   "source": [
    "### 가변인자 리스트를 사용해봅시다.\n",
    "\n",
    "> 정수를 여러 개 받아서 가장 큰 값을 반환(return)하는 `my_max()`을 만들어주세요.\n",
    "\n",
    "```python\n",
    "my_max(10, 20, 30, 50)\n",
    "```\n",
    "---\n",
    "```\n",
    "예시출력)\n",
    "50\n",
    "```"
   ]
  },
  {
   "cell_type": "code",
   "execution_count": null,
   "metadata": {},
   "outputs": [],
   "source": [
    "max(1, 2, 3, 4)"
   ]
  },
  {
   "cell_type": "code",
   "execution_count": null,
   "metadata": {},
   "outputs": [],
   "source": [
    "maximum = 0\n",
    "for num in [1, 2, 3, 4]\n",
    "    if num > maximum:\n",
    "        maximum = num"
   ]
  },
  {
   "cell_type": "code",
   "execution_count": 134,
   "metadata": {},
   "outputs": [
    {
     "data": {
      "text/plain": [
       "-1"
      ]
     },
     "execution_count": 134,
     "metadata": {},
     "output_type": "execute_result"
    }
   ],
   "source": [
    "# 아래에 코드를 작성해주세요.\n",
    "def my_max(*args):\n",
    "    maximum = args[0]   # 무조건 첫번째한테 주면 알아서 뒤에 애들하고 비교한다.\n",
    "    for num in args:\n",
    "        if num > maximum:\n",
    "           maximum = num\n",
    "\n",
    "        return maximum\n",
    "\n",
    "    \n",
    "    # return max(args)  \n",
    "    \n",
    "    \n",
    "my_max(-1, -2, -3, -4)  # 내가 원하는 건 큰 값이 나오길 바람."
   ]
  },
  {
   "cell_type": "code",
   "execution_count": 137,
   "metadata": {},
   "outputs": [
    {
     "data": {
      "text/plain": [
       "-1"
      ]
     },
     "execution_count": 137,
     "metadata": {},
     "output_type": "execute_result"
    }
   ],
   "source": [
    "def my_max(*args):\n",
    "    for idx, num in enumerate(args):  # enumerate가 index 같이 뽑는 애\n",
    "        if idx == 0:\n",
    "            maximum = num\n",
    "        else:\n",
    "            if num > maximum:\n",
    "                maximum = num\n",
    "    return maximum\n",
    "\n",
    "my_max(-1, -2, -3, -4)"
   ]
  },
  {
   "cell_type": "markdown",
   "metadata": {},
   "source": [
    "## 정의되지 않은 키워드 인자 처리하기\n",
    "\n",
    "정의되지 않은 키워드 인자들은 `dict` 형태로 처리가 되며, `**`로 표현합니다. \n",
    "\n",
    "주로 `kwagrs`라는 이름을 사용하며, `**kwargs`를 통해 인자를 받아 처리할 수 있습니다.\n",
    "\n",
    "**활용법**\n",
    "\n",
    "```python\n",
    "def func(**kwargs):\n",
    "```"
   ]
  },
  {
   "cell_type": "markdown",
   "metadata": {},
   "source": [
    "우리가 dictionary를 만들 때 사용할 수 있는 `dict()` 함수는 [파이썬 표준 라이브러리의 내장함수](https://docs.python.org/ko/3.6/library/functions.html) 중 하나이며, 다음과 같이 구성되어 있다.\n",
    "<br>\n",
    "<br>\n",
    "<center>\n",
    "    <img src=\"./images/03/dict.png\", alt=\"dictionary\">\n",
    "</center>"
   ]
  },
  {
   "cell_type": "code",
   "execution_count": 140,
   "metadata": {},
   "outputs": [
    {
     "name": "stdout",
     "output_type": "stream",
     "text": [
      "{'ko': '안녕', 'en': 'hi', 'de': 'Guten Tag'} {'ko': '안녕', 'en': 'hi', 'de': 'Guten Tag'}\n"
     ]
    }
   ],
   "source": [
    "# 딕셔너리 생성 함수 예시\n",
    "hi1 = {'ko': '안녕', 'en': 'hi', 'de': 'Guten Tag'}\n",
    "hi2 = dict(ko='안녕', en='hi', de='Guten Tag')\n",
    "\n",
    "print(hi1, hi2)\n",
    "\n"
   ]
  },
  {
   "cell_type": "markdown",
   "metadata": {},
   "source": [
    "### 정의되지 않은 인자를 처리해봅시다. \n",
    "\n",
    "> `fake_dict()` 함수를 만들어 실제로 dictionary 모습으로 출력 함수를 만들어보세요.\n",
    ">\n",
    ">\n",
    "\n",
    "```\n",
    "예시 출력)\n",
    "한국어: 안녕, 영어: hi\n",
    "```"
   ]
  },
  {
   "cell_type": "code",
   "execution_count": 139,
   "metadata": {},
   "outputs": [
    {
     "name": "stdout",
     "output_type": "stream",
     "text": [
      "{'한국어': '안녕', '영어': 'hi', '독일어': 'Guten Tag'} <class 'dict'>\n"
     ]
    }
   ],
   "source": [
    "# 아래에 코드를 작성해주세요.\n",
    "def fake_dict(**kwargs):\n",
    "    print(kwargs, type(kwargs))\n",
    "    \n",
    "    \n",
    "fake_dict(한국어='안녕', 영어='hi', 독일어='Guten Tag')"
   ]
  },
  {
   "cell_type": "code",
   "execution_count": 142,
   "metadata": {},
   "outputs": [
    {
     "ename": "SyntaxError",
     "evalue": "keyword can't be an expression (<ipython-input-142-535dfd34e1a5>, line 10)",
     "output_type": "error",
     "traceback": [
      "\u001b[1;36m  File \u001b[1;32m\"<ipython-input-142-535dfd34e1a5>\"\u001b[1;36m, line \u001b[1;32m10\u001b[0m\n\u001b[1;33m    d2 = dict(1=a, 2=True, 3=33)\u001b[0m\n\u001b[1;37m             ^\u001b[0m\n\u001b[1;31mSyntaxError\u001b[0m\u001b[1;31m:\u001b[0m keyword can't be an expression\n"
     ]
    }
   ],
   "source": [
    "# 사실은 dict()는 출력이 아니라 딕셔너리를 리턴합니다. \n",
    "# 리턴하는 my_fake_dict를 만들어주세요.\n",
    "# keyword 인자 묶어주기\n",
    "def my_fake_dict(**kwargs):\n",
    "    return kwargs\n",
    "\n",
    "my_fake_dict(a=1, b=2, c=3)\n",
    "\n",
    "d1 = {1: 'a', 2: True, 3: 33}  \n",
    "d2 = dict(1=a, 2=True, 3=33)   # 식별자의 첫글자는 숫자가 올 수 없다."
   ]
  },
  {
   "cell_type": "markdown",
   "metadata": {},
   "source": [
    "## 딕셔너리를 인자로 넘기기(unpacking arguments list)\n",
    "\n",
    "`**dict`를 통해 함수에 인자를 넘길 수 있습니다."
   ]
  },
  {
   "cell_type": "code",
   "execution_count": 145,
   "metadata": {},
   "outputs": [],
   "source": [
    "# user 검증(유사 회원가입)을 작성해봅시다.\n",
    "def signup(username, password, password_confirmation):\n",
    "    if password == password_confirmation:\n",
    "        print(f'{username} 님 회원가입 축하!')\n",
    "        \n",
    "    else:\n",
    "        print(f'비밀번호와 비밀번호 확인이 일치하지 않습니다.')\n"
   ]
  },
  {
   "cell_type": "code",
   "execution_count": 148,
   "metadata": {},
   "outputs": [
    {
     "name": "stdout",
     "output_type": "stream",
     "text": [
      "Helena 님 회원가입 축하!\n",
      "비밀번호와 비밀번호 확인이 일치하지 않습니다.\n"
     ]
    }
   ],
   "source": [
    "signup('Helena', 123, 123)\n",
    "signup('Helena', 123, 2123)"
   ]
  },
  {
   "cell_type": "code",
   "execution_count": null,
   "metadata": {},
   "outputs": [],
   "source": [
    "new_user = {\n",
    "     use\n",
    "}\n",
    "\n",
    "# \n",
    "signup(**new_user)  # 딕셔너리 풀기"
   ]
  },
  {
   "cell_type": "markdown",
   "metadata": {},
   "source": [
    "###  URL 편하게 만들기\n",
    "\n",
    "> url 패턴을 만들어 문자열을 반환하는  `my_url` 함수를 만들어봅시다.\n",
    ">\n",
    "> 영진위에서 제공하는 일별 박스오피스 API 서비스는 다음과 같은 방식으로 요청을 받습니다.\n",
    "\n",
    "```\n",
    "기본 요청 URL : http://www.kobis.or.kr/kobisopenapi/webservice/rest/boxoffice/searchDailyBoxOfficeList.json?\n",
    "```\n",
    "\n",
    "* key : 발급받은 키값(abc)\n",
    "* targetDt : yyyymmdd\n",
    "* itemPerPage : 1 ~ 10 **기본 10**\n",
    "\n",
    "\n",
    "```\n",
    "예시)my_url(key='abc', targetDt='yyyymmdd')\n",
    "\n",
    "api = {\n",
    "    'key': 'abc',\n",
    "    'targetDt': 'yyyymmdd'\n",
    "}\n",
    "my_url(**api)\n",
    "\n",
    "예시 출력)\n",
    "'http://www.kobis.or.kr/kobisopenapi/webservice/rest/boxoffice/searchDailyBoxOfficeList.json?itemPerPage=10&key=abc&targetDt=yyyymmdd&'\n",
    "```"
   ]
  },
  {
   "cell_type": "code",
   "execution_count": null,
   "metadata": {},
   "outputs": [],
   "source": [
    "# 여기에 코드를 작성해주세요.\n",
    "def my_url(itemPerPage=10, **agrs):\n",
    "    base_url = 'http://www.kobis.or.kr/kobisopenapi/webservice/rest/boxoffice/searchDailyBoxOfficeList.json?'\n",
    "    base_url += f'itemPerPage={itemPerPage}&'\n",
    "    for key, value in agrs.items():\n",
    "        base_url += f'{key}={value}&'\n",
    "    return base_url\n",
    "\n",
    "my_url(key='abc', targetDt='yyyymmdd')\n",
    "\n",
    "api = {\n",
    "    'key': '430156241533f1d058c603178cc3ca0e',\n",
    "    'targetDt': '20190620'\n",
    "}\n",
    "my_url(1,**api)"
   ]
  },
  {
   "cell_type": "code",
   "execution_count": null,
   "metadata": {},
   "outputs": [],
   "source": [
    "'http://www.kobis.or.kr/kobisopenapi/webservice/rest/boxoffice/searchDailyBoxOfficeList.json?itemPerPage=1&key=430156241533f1d058c603178cc3ca0e&targetDt=20190620&'"
   ]
  },
  {
   "cell_type": "markdown",
   "metadata": {},
   "source": [
    "### URL 검증하기\n",
    "\n",
    "> 이제 우리는 만들어진 요청 보내기전에 URL을 검증해야합니다. \n",
    ">\n",
    "> 앞선 설명을 참고하여 검증 로직을 구현하고 문자열을 반환하세요.\n",
    "\n",
    "```\n",
    "> 아래의 두가지 상황만 만들도록 하겠습니다. <\n",
    "\n",
    "key, targetDt가 없으면, '필수 요청변수가 누락되었습니다.'\n",
    "\n",
    "itemPerPage의 범위가 1~10을 넘어가면, '1~10까지의 값을 넣어주세요.'\n",
    "```"
   ]
  },
  {
   "cell_type": "code",
   "execution_count": null,
   "metadata": {},
   "outputs": [],
   "source": [
    "# 여기에 코드를 작성해주세요\n",
    "def my_url(itemPerPage=10, **agrs):\n",
    "    if 'key' not in agrs or 'targetDt' not in agrs:\n",
    "        return '필수 요청변수가 누락되었습니다.'\n",
    "    if int(itemPerPage) not in range(1, 11):\n",
    "        return '1~10까지의 값을 넣어주세요.'\n",
    "    base_url = 'http://www.kobis.or.kr/kobisopenapi/webservice/rest/boxoffice/searchDailyBoxOfficeList.json?'\n",
    "    base_url += f'itemPerPage={itemPerPage}'\n",
    "    for key, value in agrs.items():\n",
    "        base_url += f'{key}={value}&'\n",
    "    return base_url\n",
    "\n",
    "api = {\n",
    "    'key': '430156241533f1d058c603178cc3ca0e',\n",
    "    'targetDt': '20190620'\n",
    "}\n",
    "\n",
    "my_url(11, **api) "
   ]
  },
  {
   "cell_type": "code",
   "execution_count": null,
   "metadata": {},
   "outputs": [],
   "source": [
    " '1~10까지의 값을 넣어주세요.'"
   ]
  },
  {
   "cell_type": "markdown",
   "metadata": {},
   "source": [
    "## 이름공간 및 스코프(Scope)\n",
    "\n",
    "파이썬에서 사용되는 이름들은 이름공간(namespce)에 저장되어 있습니다.\n",
    "그리고, LEGB Rule을 가지고 있습니다. \n",
    "\n",
    "변수에서 값을 찾을 때 아래와 같은 순서대로 이름을 찾아나갑니다.\n",
    "* `L`ocal scope: 정의된 함수\n",
    "* `E`nclosed scope: 상위 함수 \n",
    "* `G`lobal scope: 함수 밖의 변수 혹은 import된 모듈\n",
    "* `B`uilt-in scope: 파이썬안에 내장되어 있는 함수 또는 속성"
   ]
  },
  {
   "cell_type": "code",
   "execution_count": 1,
   "metadata": {},
   "outputs": [
    {
     "ename": "TypeError",
     "evalue": "'int' object is not callable",
     "output_type": "error",
     "traceback": [
      "\u001b[1;31m---------------------------------------------------------------------------\u001b[0m",
      "\u001b[1;31mTypeError\u001b[0m                                 Traceback (most recent call last)",
      "\u001b[1;32m<ipython-input-1-98dc52c06b35>\u001b[0m in \u001b[0;36m<module>\u001b[1;34m\u001b[0m\n\u001b[0;32m      1\u001b[0m \u001b[1;31m# 따라서 첫시간에 내장함수의 식별자를 사용할 수 없었던 예제에서 오류가 생기는 이유를 확인할 수 있습니다.\u001b[0m\u001b[1;33m\u001b[0m\u001b[1;33m\u001b[0m\u001b[1;33m\u001b[0m\u001b[0m\n\u001b[0;32m      2\u001b[0m \u001b[0mmax\u001b[0m \u001b[1;33m=\u001b[0m \u001b[1;36m1\u001b[0m\u001b[1;33m\u001b[0m\u001b[1;33m\u001b[0m\u001b[0m\n\u001b[1;32m----> 3\u001b[1;33m \u001b[0mmax\u001b[0m\u001b[1;33m(\u001b[0m\u001b[1;36m1\u001b[0m\u001b[1;33m,\u001b[0m \u001b[1;36m2\u001b[0m\u001b[1;33m,\u001b[0m \u001b[1;36m3\u001b[0m\u001b[1;33m)\u001b[0m  \u001b[1;31m# 'max = 1'이 먼저가 되어 함수max는 묻힘.\u001b[0m\u001b[1;33m\u001b[0m\u001b[1;33m\u001b[0m\u001b[0m\n\u001b[0m",
      "\u001b[1;31mTypeError\u001b[0m: 'int' object is not callable"
     ]
    }
   ],
   "source": [
    "# 따라서 첫시간에 내장함수의 식별자를 사용할 수 없었던 예제에서 오류가 생기는 이유를 확인할 수 있습니다.\n",
    "max = 1\n",
    "max(1, 2, 3)  # 'max = 1'이 먼저가 되어 함수max는 묻힘."
   ]
  },
  {
   "cell_type": "code",
   "execution_count": null,
   "metadata": {},
   "outputs": [],
   "source": [
    "a= 123  # G\n",
    "\n",
    "def func():   #  E\n",
    "    a = 1\n",
    "    def func_1()   # L\n",
    "        a = 125\n",
    "        \n",
    "max()  # B"
   ]
  },
  {
   "cell_type": "markdown",
   "metadata": {},
   "source": [
    "* `str()` 코드가 실행되면\n",
    "* str을 Global scope에서 먼저 찾아서 `str = 4`를 가져오고, \n",
    "* 이는 함수가 아니라 변수이기 때문에 `not callable`하다라는 오류를 내뱉게 됩니다.\n",
    "* 우리가 원하는 `str()`은 Built-in scope에 있기 때문입니다."
   ]
  },
  {
   "cell_type": "code",
   "execution_count": 2,
   "metadata": {},
   "outputs": [
    {
     "data": {
      "text/plain": [
       "3"
      ]
     },
     "execution_count": 2,
     "metadata": {},
     "output_type": "execute_result"
    }
   ],
   "source": [
    "del max\n",
    "# del max\n",
    "\n",
    "max(1, 2, 3)"
   ]
  },
  {
   "cell_type": "code",
   "execution_count": 13,
   "metadata": {},
   "outputs": [
    {
     "name": "stdout",
     "output_type": "stream",
     "text": [
      "1\n"
     ]
    }
   ],
   "source": [
    "# 전역 변수를 바꿀 수 있을 까요?\n",
    "a = 0    # G\n",
    "\n",
    "def home():\n",
    "    global a   #a가 G를 home에 있는 애로 바꿨으면 좋겠어요. 그러나, 잘 쓰지 마세요.\n",
    "    a = 1  # L\n",
    "\n",
    "\n",
    "home()\n",
    "    \n",
    "print(a)"
   ]
  },
  {
   "cell_type": "code",
   "execution_count": 14,
   "metadata": {},
   "outputs": [
    {
     "name": "stdout",
     "output_type": "stream",
     "text": [
      "a가 100로 바뀌었습니다.\n",
      "1\n"
     ]
    }
   ],
   "source": [
    "a = 1\n",
    "\n",
    "def func():\n",
    "    a = 100\n",
    "    print(f'a가 {a}로 바뀌었습니다.')\n",
    "    \n",
    "func()\n",
    "\n",
    "print(a)"
   ]
  },
  {
   "cell_type": "code",
   "execution_count": 18,
   "metadata": {},
   "outputs": [
    {
     "name": "stdout",
     "output_type": "stream",
     "text": [
      "himom\n",
      "himom\n"
     ]
    }
   ],
   "source": [
    "# 주의할 점!\n",
    "a = 'hi'\n",
    "b = 'mom'\n",
    "\n",
    "def hi_mom():\n",
    "    return a + b\n",
    "\n",
    "print(hi_mom())\n",
    "\n",
    "## 이런식으로 되어야 함. a, b와 무관하게 함수를 떼서 쓸 수 있도록 !\n",
    "def hi_mom(x, y):\n",
    "    return x + y\n",
    "\n",
    "print(hi_mom(a, b))"
   ]
  },
  {
   "cell_type": "markdown",
   "metadata": {},
   "source": [
    "이름공간은 각자의 수명주기가 있습니다.\n",
    "\n",
    "* built-in scope : 파이썬이 실행된 이후부터 끝까지 \n",
    "\n",
    "* Global scope : 모듈이 호출된 시점 이후 혹은 이름 선언된 이후부터 끝까지\n",
    "\n",
    "* Local/Enclosed scope : 함수가 실행된 시점 이후부터 리턴할때 까지"
   ]
  },
  {
   "cell_type": "markdown",
   "metadata": {},
   "source": [
    "# 재귀 함수(recursive function)\n",
    "\n",
    "재귀 함수는 함수 내부에서 자기 자신을 호출 하는 함수를 뜻한다."
   ]
  },
  {
   "cell_type": "markdown",
   "metadata": {},
   "source": [
    "## 팩토리얼 계산\n",
    "\n",
    "> `팩토리얼(factorial)`을 계산하는 함수 `fact(n)`를 작성해봅시다. \n",
    ">\n",
    "> n은 1보다 큰 정수라고 가정하고, 팩토리얼을 계산한 값을 반환합니다.\n",
    "\n",
    "$$\n",
    "\\displaystyle n! = \\prod_{ k = 1 }^{ n }{ k }\n",
    "$$\n",
    "\n",
    "$$\n",
    "\\displaystyle n! = 1*2*3*...*(n-1)*n\n",
    "$$\n",
    "\n",
    "---\n",
    "```\n",
    "예시 출력)\n",
    "120\n",
    "```"
   ]
  },
  {
   "cell_type": "code",
   "execution_count": 73,
   "metadata": {},
   "outputs": [
    {
     "data": {
      "text/plain": [
       "120"
      ]
     },
     "execution_count": 73,
     "metadata": {},
     "output_type": "execute_result"
    }
   ],
   "source": [
    "# 아래에 코드를 작성해주세요.\n",
    "def fact(n):\n",
    "    result = 1\n",
    "    for num in range(1, n+1):\n",
    "        result *= num\n",
    "    return result\n",
    "\n",
    "fact(5)"
   ]
  },
  {
   "cell_type": "code",
   "execution_count": 74,
   "metadata": {},
   "outputs": [
    {
     "data": {
      "text/plain": [
       "2658271574788448768043625811014615890319638528000000000"
      ]
     },
     "execution_count": 74,
     "metadata": {},
     "output_type": "execute_result"
    }
   ],
   "source": [
    "def fact_2(n):\n",
    "    result_2 = 1\n",
    "    while n > 1:   # 이거면 돌려라.\n",
    "        result_2 *= n\n",
    "        n -= 1\n",
    "    return result_2\n",
    "\n",
    "fact_2(44)"
   ]
  },
  {
   "cell_type": "markdown",
   "metadata": {},
   "source": [
    "## 재귀를 이용한 팩토리얼 계산\n",
    "\n",
    "```\n",
    "1! = 1\n",
    "2! = 1 * 2 = 1! * 2 \n",
    "3! = 1 * 2 * 3 = 2! * 3\n",
    "```"
   ]
  },
  {
   "cell_type": "code",
   "execution_count": 77,
   "metadata": {
    "scrolled": true
   },
   "outputs": [
    {
     "data": {
      "text/plain": [
       "120"
      ]
     },
     "execution_count": 77,
     "metadata": {},
     "output_type": "execute_result"
    }
   ],
   "source": [
    "# 아래에 코드를 작성해주세요.\n",
    "def factorial(n):\n",
    "    if n == 1:\n",
    "        return n\n",
    "    else:\n",
    "        return n * factorial(n-1)\n",
    "    \n",
    "factorial(5)"
   ]
  },
  {
   "cell_type": "markdown",
   "metadata": {},
   "source": [
    "## 반복문과 재귀함수\n",
    "```\n",
    "factorial(3)\n",
    "3 * factorail(2)\n",
    "3 * 2 * factorial(1)\n",
    "3 * 2 * 1\n",
    "3 * 2\n",
    "6\n",
    "```\n",
    "\n",
    "* 두 코드 모두 원리는 같다! \n",
    "\n",
    "```\n",
    "반복문 코드:\n",
    "    n이 1보다 큰 경우 반복문을 돌며, n은  1씩 감소한다. \n",
    "    마지막에 n이 1이면 더 이상 반복문을 돌지 않는다.\n",
    "  \n",
    "재귀 함수 코드:\n",
    "    재귀 함수를 호출하며, n은 1씩 감소한다. \n",
    "    마지막에 n이 1이면 더 이상 추가 함수를 호출을 하지 않는다.\n",
    "```\n"
   ]
  },
  {
   "cell_type": "markdown",
   "metadata": {},
   "source": [
    "* 재귀 함수는 기본적으로 같은 문제이지만 점점 범위가 줄어드는 문제를 풀게 된다.\n",
    "\n",
    "* 재귀함수를 작성시에는 반드시, `base case`가 존재 하여야 한다. \n",
    "\n",
    "* `base case`는 점점 범위가 줄어들어 반복되지 않는 최종적으로 도달하는 곳이다. \n",
    "\n",
    "재귀를 이용한 팩토리얼 계산에서의 base case는 n이 1일때, 함수가 아닌 정수 반환하는 것이다."
   ]
  },
  {
   "cell_type": "markdown",
   "metadata": {},
   "source": [
    "* 자기 자신을 호출하는 재귀함수는 알고리즘 구현시 많이 사용된다.\n",
    "* 코드가 더 직관적이고 이해하기 쉬운 경우가 있음. (하지만, 만들기는 어려움)\n",
    "* [Python Tutor](https://goo.gl/k1hQYz)에 보면, 함수가 호출될 때마다 메모리 공간에 쌓이는 것을 볼 수 있다. \n",
    "* 이 경우, 메모리 스택이 넘치거나(Stack overflow) 프로그램 실행 속도가 늘어지는 단점이 생긴다.\n",
    "* 파이썬에서는 이를 방지하기 위해 1,000번이 넘어가게 되면 더이상 함수를 호출하지 않고, 종료된다."
   ]
  },
  {
   "cell_type": "code",
   "execution_count": 79,
   "metadata": {},
   "outputs": [
    {
     "ename": "RecursionError",
     "evalue": "maximum recursion depth exceeded",
     "output_type": "error",
     "traceback": [
      "\u001b[1;31m---------------------------------------------------------------------------\u001b[0m",
      "\u001b[1;31mRecursionError\u001b[0m                            Traceback (most recent call last)",
      "\u001b[1;32m<ipython-input-79-1572ca55333e>\u001b[0m in \u001b[0;36m<module>\u001b[1;34m\u001b[0m\n\u001b[0;32m      4\u001b[0m     \u001b[1;32mreturn\u001b[0m \u001b[0merror_test\u001b[0m\u001b[1;33m(\u001b[0m\u001b[0mn\u001b[0m\u001b[1;33m)\u001b[0m\u001b[1;33m\u001b[0m\u001b[1;33m\u001b[0m\u001b[0m\n\u001b[0;32m      5\u001b[0m \u001b[1;33m\u001b[0m\u001b[0m\n\u001b[1;32m----> 6\u001b[1;33m \u001b[0merror_test\u001b[0m\u001b[1;33m(\u001b[0m\u001b[1;36m1\u001b[0m\u001b[1;33m)\u001b[0m\u001b[1;33m\u001b[0m\u001b[1;33m\u001b[0m\u001b[0m\n\u001b[0m",
      "\u001b[1;32m<ipython-input-79-1572ca55333e>\u001b[0m in \u001b[0;36merror_test\u001b[1;34m(n)\u001b[0m\n\u001b[0;32m      2\u001b[0m \u001b[1;33m\u001b[0m\u001b[0m\n\u001b[0;32m      3\u001b[0m \u001b[1;32mdef\u001b[0m \u001b[0merror_test\u001b[0m\u001b[1;33m(\u001b[0m\u001b[0mn\u001b[0m\u001b[1;33m)\u001b[0m\u001b[1;33m:\u001b[0m\u001b[1;33m\u001b[0m\u001b[1;33m\u001b[0m\u001b[0m\n\u001b[1;32m----> 4\u001b[1;33m     \u001b[1;32mreturn\u001b[0m \u001b[0merror_test\u001b[0m\u001b[1;33m(\u001b[0m\u001b[0mn\u001b[0m\u001b[1;33m)\u001b[0m\u001b[1;33m\u001b[0m\u001b[1;33m\u001b[0m\u001b[0m\n\u001b[0m\u001b[0;32m      5\u001b[0m \u001b[1;33m\u001b[0m\u001b[0m\n\u001b[0;32m      6\u001b[0m \u001b[0merror_test\u001b[0m\u001b[1;33m(\u001b[0m\u001b[1;36m1\u001b[0m\u001b[1;33m)\u001b[0m\u001b[1;33m\u001b[0m\u001b[1;33m\u001b[0m\u001b[0m\n",
      "... last 1 frames repeated, from the frame below ...\n",
      "\u001b[1;32m<ipython-input-79-1572ca55333e>\u001b[0m in \u001b[0;36merror_test\u001b[1;34m(n)\u001b[0m\n\u001b[0;32m      2\u001b[0m \u001b[1;33m\u001b[0m\u001b[0m\n\u001b[0;32m      3\u001b[0m \u001b[1;32mdef\u001b[0m \u001b[0merror_test\u001b[0m\u001b[1;33m(\u001b[0m\u001b[0mn\u001b[0m\u001b[1;33m)\u001b[0m\u001b[1;33m:\u001b[0m\u001b[1;33m\u001b[0m\u001b[1;33m\u001b[0m\u001b[0m\n\u001b[1;32m----> 4\u001b[1;33m     \u001b[1;32mreturn\u001b[0m \u001b[0merror_test\u001b[0m\u001b[1;33m(\u001b[0m\u001b[0mn\u001b[0m\u001b[1;33m)\u001b[0m\u001b[1;33m\u001b[0m\u001b[1;33m\u001b[0m\u001b[0m\n\u001b[0m\u001b[0;32m      5\u001b[0m \u001b[1;33m\u001b[0m\u001b[0m\n\u001b[0;32m      6\u001b[0m \u001b[0merror_test\u001b[0m\u001b[1;33m(\u001b[0m\u001b[1;36m1\u001b[0m\u001b[1;33m)\u001b[0m\u001b[1;33m\u001b[0m\u001b[1;33m\u001b[0m\u001b[0m\n",
      "\u001b[1;31mRecursionError\u001b[0m: maximum recursion depth exceeded"
     ]
    }
   ],
   "source": [
    "# 여기에서 오류를 확인해보자!\n",
    "\n",
    "def error_test(n):\n",
    "    return error_test(n)\n",
    "\n",
    "error_test(1)"
   ]
  },
  {
   "cell_type": "markdown",
   "metadata": {},
   "source": [
    "## 피보나치 수열\n",
    "\n",
    "> 피보나치 수열은 다음과 같은 점화식이 있다. \n",
    ">\n",
    "> 피보나치 값을 리턴하는 두가지 방식의 코드를 모두 작성해보자.\n",
    "\n",
    "$$\n",
    "\\displaystyle F_0 = F_1 = 1\n",
    "$$\n",
    "\n",
    "$$\n",
    "F_n=F_{n-1}+F_{n-2}\\qquad(n\\in\\{2,3,4,\\dots\\})\n",
    "$$\n",
    "\n",
    "1) `fib(n)` : 재귀함수\n",
    "\n",
    "2) `fib_loop(n)` : 반복문 활용한 함수\n",
    "\n",
    "---\n",
    "```\n",
    "예시 입력)\n",
    "fib(10)\n",
    "\n",
    "예시 호출)\n",
    "89\n",
    "```"
   ]
  },
  {
   "cell_type": "code",
   "execution_count": null,
   "metadata": {},
   "outputs": [],
   "source": [
    "n = 3\n",
    "1 1 2 3 5 8 13 21 "
   ]
  },
  {
   "cell_type": "code",
   "execution_count": 130,
   "metadata": {},
   "outputs": [
    {
     "data": {
      "text/plain": [
       "89"
      ]
     },
     "execution_count": 130,
     "metadata": {},
     "output_type": "execute_result"
    }
   ],
   "source": [
    "# 재귀를 이용한 코드를 작성해주세요.\n",
    "def fib(n):\n",
    "    if n == 0 or n == 1:\n",
    "        return 1\n",
    "    else:\n",
    "        return fib(n-1) + fib(n-2)\n",
    "fib(10)"
   ]
  },
  {
   "cell_type": "code",
   "execution_count": 99,
   "metadata": {},
   "outputs": [
    {
     "name": "stdout",
     "output_type": "stream",
     "text": [
      "[1, 1, 2, 3, 5]\n"
     ]
    }
   ],
   "source": [
    "fibos = [1, 1]\n",
    "\n",
    "for i in range(3):\n",
    "    x = fibos[-1] + fibos[-2]\n",
    "    fibos.append(x)\n",
    "    \n",
    "print(fibos)"
   ]
  },
  {
   "cell_type": "code",
   "execution_count": 125,
   "metadata": {},
   "outputs": [
    {
     "data": {
      "text/plain": [
       "89"
      ]
     },
     "execution_count": 125,
     "metadata": {},
     "output_type": "execute_result"
    }
   ],
   "source": [
    "def fib(n):\n",
    "    fibos = [1, 1]\n",
    "\n",
    "    for _ in range(n-1):\n",
    "        x = fibos[-1] + fibos[-2]\n",
    "        fibos.append(x)\n",
    "\n",
    "    return fibos[-1]\n",
    "\n",
    "fib(10)    "
   ]
  },
  {
   "cell_type": "code",
   "execution_count": 126,
   "metadata": {},
   "outputs": [
    {
     "data": {
      "text/plain": [
       "89"
      ]
     },
     "execution_count": 126,
     "metadata": {},
     "output_type": "execute_result"
    }
   ],
   "source": [
    "def fib_loop_1(n):\n",
    "    a, b = 1, 1\n",
    "    for i in range(n-1):\n",
    "        a, b = b, a + b\n",
    "    return b\n",
    "\n",
    "fib_loop_1(10)"
   ]
  },
  {
   "cell_type": "code",
   "execution_count": 128,
   "metadata": {},
   "outputs": [
    {
     "data": {
      "text/plain": [
       "89"
      ]
     },
     "execution_count": 128,
     "metadata": {},
     "output_type": "execute_result"
    }
   ],
   "source": [
    "# 반복문을 이용한 코드를 작성해주세요.\n",
    "def fib_loop(n):\n",
    "    F_0 = 1\n",
    "    F_1 = 1\n",
    "    result = 0\n",
    "    for _ in range(n-1):\n",
    "        result = F_0 + F_1\n",
    "        F_0 = F_1\n",
    "        F_1 = result\n",
    "    return result\n",
    "    \n",
    "fib_loop(10)"
   ]
  },
  {
   "cell_type": "markdown",
   "metadata": {},
   "source": [
    "## 반복문과 재귀 함수의 차이"
   ]
  },
  {
   "cell_type": "code",
   "execution_count": 131,
   "metadata": {},
   "outputs": [
    {
     "data": {
      "text/plain": [
       "5702887"
      ]
     },
     "execution_count": 131,
     "metadata": {},
     "output_type": "execute_result"
    }
   ],
   "source": [
    "# 큰 숫자를 재귀로 짜여진 fib()함수의 인자로 넘겨보세요.\n",
    "fib(33)"
   ]
  },
  {
   "cell_type": "code",
   "execution_count": 134,
   "metadata": {},
   "outputs": [
    {
     "data": {
      "text/plain": [
       "330153163507162264637094778670152653434758914922281728912670042596222213549775330156165336158736310556035302724174567603559968964146698655928480718496410717009709564103992213321320869628734803460669663152332798570186240768164370808688660485835985642189726235311578136722218902035069558368032277843436948382319806290480685283349217035498351102885889468646619750569482644246863804467015344937199892515242806415403581786532923017170033416624774209919795051514102027827396052441847160310846646083321110222356075543424672128051593137886359425865994528848747739182600228659941846983982384323813903695048726976986370288741982958687841091743740983161275336114608885705665822704734020694899622487801"
      ]
     },
     "execution_count": 134,
     "metadata": {},
     "output_type": "execute_result"
    }
   ],
   "source": [
    "# 100배 되는 숫자를 반복문으로 짜여진 fib_loop()인자로 넘겨보세요.\n",
    "fib_loop(3300)"
   ]
  },
  {
   "cell_type": "markdown",
   "metadata": {},
   "source": [
    "#### 속도의 차이를 느껴보자\n",
    "\n",
    "\n",
    "###### for문이 더 빠른데 왜 재귀씀? (https://kldp.org/node/134556)\n",
    "- 알고리즘 자체가 재귀적인 표현이 자연스러운 경우\n",
    "- 재귀 호출은 '변수 사용'을 줄여줄 수 있다."
   ]
  },
  {
   "cell_type": "markdown",
   "metadata": {},
   "source": [
    "## 실습문제 - 하노이의 탑\n",
    "\n",
    "> 다음은 하노이의 탑이다. \n",
    ">\n",
    "> 하노이의 탑을 풀이하는 해법(한쪽 탑의 원판을 다른 탑으로 모두 옮기는 법을 출력하는 함수를 만드세요.\n",
    "> \n",
    "> 참고링크 : https://ko.khanacademy.org/computing/computer-science/algorithms/towers-of-hanoi/a/towers-of-hanoi\n",
    "\n",
    "<br>\n",
    "<br>\n",
    "<center>\n",
    "    <img src=\"./images/03/hanoi.gif\", alt=\"\">\n",
    "</center>\n",
    "\n",
    "1. 한 번에 한개의 층만을 다른 기둥으로 옮길 수 있다\n",
    "2. 옮기려는 기둥에는 아무것도 없거나 옮기려는 층보다 큰 층이 있을 경우에만 옮길 수 있다\n",
    "3. 옮기려는 기둥에 옮기려는 층보다 작은 층이 이미 있을 경우 그 기둥으로 옮길 수 없다.\n",
    "4. 가능한 적은 회수로 전체 탑을 다른 기둥으로 옮긴다."
   ]
  },
  {
   "cell_type": "code",
   "execution_count": null,
   "metadata": {},
   "outputs": [],
   "source": [
    "# 아래에 코드를 작성해주세요.\n",
    "def hanoi(n, start, tmp, end):\n",
    "    if n:\n",
    "        # 마지막 제외 원판을 모두 끝을 이용해서 중간으로\n",
    "        hanoi(n - 1, start, end, tmp)\n",
    "        print(f'{n}번째 원판을, {start}에서 {end}로')\n",
    "        # 중간에 있는 원판을 모두 시작을 거쳐서 끝으로\n",
    "        hanoi(n - 1, tmp, start, end)\n",
    "hanoi(2, 'a', 'b', 'c')\n",
    "print('---')\n",
    "hanoi(3, 'a', 'b', 'c')\n",
    "\n",
    "# 1번 기둥에서 n-1번 까지의 원판을 2번(여분의 기둥)으로 옮긴다.\n",
    "# 1번 기둥에서 n번 원판을 3번으로 옮긴다.\n",
    "# 2번 기둥의 n-1번 까지의 원판을 3번으로 옮긴다.\n",
    "\n",
    "# hanoi(n) = 2hanoi(n-1) + move(n)"
   ]
  }
 ],
 "metadata": {
  "kernelspec": {
   "display_name": "Python 3",
   "language": "python",
   "name": "python3"
  },
  "language_info": {
   "codemirror_mode": {
    "name": "ipython",
    "version": 3
   },
   "file_extension": ".py",
   "mimetype": "text/x-python",
   "name": "python",
   "nbconvert_exporter": "python",
   "pygments_lexer": "ipython3",
   "version": "3.7.3"
  }
 },
 "nbformat": 4,
 "nbformat_minor": 2
}
