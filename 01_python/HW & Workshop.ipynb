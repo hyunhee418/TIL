{
 "cells": [
  {
   "cell_type": "markdown",
   "metadata": {},
   "source": [
    "# HW day 03"
   ]
  },
  {
   "cell_type": "code",
   "execution_count": null,
   "metadata": {},
   "outputs": [],
   "source": []
  },
  {
   "cell_type": "markdown",
   "metadata": {},
   "source": [
    "# HW day 04"
   ]
  },
  {
   "cell_type": "code",
   "execution_count": null,
   "metadata": {},
   "outputs": [],
   "source": []
  },
  {
   "cell_type": "markdown",
   "metadata": {},
   "source": [
    "# Workshop day 03"
   ]
  },
  {
   "cell_type": "code",
   "execution_count": 27,
   "metadata": {},
   "outputs": [
    {
     "data": {
      "text/plain": [
       "True"
      ]
     },
     "execution_count": 27,
     "metadata": {},
     "output_type": "execute_result"
    }
   ],
   "source": [
    "def palindrome(words):\n",
    "    if list(words) == list(words)[::-1]:\n",
    "        return True\n",
    "    else:\n",
    "        return False\n",
    "\n",
    "palindrome('토마토')"
   ]
  },
  {
   "cell_type": "markdown",
   "metadata": {},
   "source": [
    "# Workshop day 04"
   ]
  },
  {
   "cell_type": "code",
   "execution_count": 32,
   "metadata": {},
   "outputs": [
    {
     "data": {
      "text/plain": [
       "1.7500076293945312"
      ]
     },
     "execution_count": 32,
     "metadata": {},
     "output_type": "execute_result"
    }
   ],
   "source": [
    "def square_root(x, maximum=1, minimum=0):\n",
    "    \n",
    "        while maximum ** 2 < x:\n",
    "            minimum += 1\n",
    "            maximum += 1\n",
    "             \n",
    "        while maximum - minimum > 1e-5:\n",
    "            if minimum** 2 < x < maximum** 2:\n",
    "                minimum = (minimum + maximum)/ 2\n",
    "            else:\n",
    "                maximum = (minimum + maximum)/ 2\n",
    "        return maximum\n",
    "\n",
    "square_root(3)\n"
   ]
  },
  {
   "cell_type": "code",
   "execution_count": 3,
   "metadata": {},
   "outputs": [
    {
     "data": {
      "text/plain": [
       "1.7320508072152734"
      ]
     },
     "execution_count": 3,
     "metadata": {},
     "output_type": "execute_result"
    }
   ],
   "source": [
    "import math\n",
    "\n",
    "def square_root(n, maximum=1, minimum=0):\n",
    "    if minimum ** 2 == n:\n",
    "        return minimum\n",
    "    elif maximum ** 2 == n:\n",
    "        return maximum\n",
    "    else:\n",
    "        while not math.isclose(minimum, maximum):\n",
    "            if minimum ** 2 < n < maximum ** 2:\n",
    "                guess = (minimum + maximum) / 2\n",
    "                if n > guess ** 2:\n",
    "                    minimum = guess\n",
    "                else:\n",
    "                    maximum = guess\n",
    "            else:\n",
    "                minimum, maximum = maximum, maximum + 1\n",
    "        return minimum\n",
    "\n",
    "square_root(3)"
   ]
  },
  {
   "cell_type": "code",
   "execution_count": 2,
   "metadata": {},
   "outputs": [
    {
     "data": {
      "text/plain": [
       "1.732050808146596"
      ]
     },
     "execution_count": 2,
     "metadata": {},
     "output_type": "execute_result"
    }
   ],
   "source": [
    "def bis(n):\n",
    "    minimum, maximum = 1, n\n",
    "    guess = 1\n",
    "    \n",
    "    while not math.isclose(guess ** 2, n):\n",
    "        guess = (minimum + maximum) / 2\n",
    "        if guess ** 2 < n:\n",
    "            minimum = guess\n",
    "        else:\n",
    "            maximum = guess\n",
    "    return guess\n",
    "\n",
    "bis(3)"
   ]
  },
  {
   "cell_type": "code",
   "execution_count": 9,
   "metadata": {},
   "outputs": [
    {
     "data": {
      "text/plain": [
       "1.7320508072152734"
      ]
     },
     "execution_count": 9,
     "metadata": {},
     "output_type": "execute_result"
    }
   ],
   "source": [
    "def bis(n, minimum=0, maximum=1):\n",
    "    if minimum ** 2 == n:  # 리턴을 받으면 뒤에 무슨 말이 있던지 안돌아감.\n",
    "        return minimum\n",
    "    elif maximum ** 2 == n:\n",
    "        return maximum\n",
    "    elif math.isclose(minimum, maximum):\n",
    "        return minimum\n",
    "\n",
    "# basecase    \n",
    "\n",
    "    if minimum ** 2 < n < maximum ** 2:\n",
    "        guess = (minimum + maximum) / 2\n",
    "        if n < guess ** 2:\n",
    "            return bis(n, minimum, guess)\n",
    "        else:\n",
    "            return bis(n, guess, maximum)\n",
    "    else:\n",
    "        minimum, maximum = maximum, maximum + 1\n",
    "        return bis(n, minimum, maximum)\n",
    "\n",
    "bis(3)"
   ]
  }
 ],
 "metadata": {
  "kernelspec": {
   "display_name": "Python 3",
   "language": "python",
   "name": "python3"
  },
  "language_info": {
   "codemirror_mode": {
    "name": "ipython",
    "version": 3
   },
   "file_extension": ".py",
   "mimetype": "text/x-python",
   "name": "python",
   "nbconvert_exporter": "python",
   "pygments_lexer": "ipython3",
   "version": "3.7.3"
  }
 },
 "nbformat": 4,
 "nbformat_minor": 2
}
